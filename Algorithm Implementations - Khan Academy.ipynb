{
 "cells": [
  {
   "cell_type": "markdown",
   "metadata": {},
   "source": [
    "This notebook contains Algorithm Challenges of the <a src=\"https://www.khanacademy.org/computing/computer-science/algorithms/\">Khan Academy Algorithm Course</a>. The course uses Javascript for its codes but I decided to implement the algorithms in Python myself."
   ]
  },
  {
   "cell_type": "markdown",
   "metadata": {},
   "source": [
    "## Linear Search"
   ]
  },
  {
   "cell_type": "markdown",
   "metadata": {},
   "source": [
    "- Linear sort searches through the array from begining till it finds the value\n",
    "- It is assumed that array is already sorted\n",
    "- The big O is n\n",
    "- Outputs -1 if value is not found"
   ]
  },
  {
   "cell_type": "code",
   "execution_count": 5,
   "metadata": {},
   "outputs": [],
   "source": [
    "def LinearSearch(array, value):\n",
    "    for i in range(0, len(array)):\n",
    "        if array[i] == value:\n",
    "            return i\n",
    "    return -1     "
   ]
  },
  {
   "cell_type": "code",
   "execution_count": 6,
   "metadata": {},
   "outputs": [
    {
     "name": "stdout",
     "output_type": "stream",
     "text": [
      "Index of value 13 in array is: 6\n"
     ]
    }
   ],
   "source": [
    "array = [2, 3, 5, 7, 10, 11, 13, 15, 18, 24, 32]\n",
    "\n",
    "assert LinearSearch(array, 13) == 6\n",
    "print(\"Index of value 13 in array is:\", LinearSearch(array, 13))"
   ]
  },
  {
   "cell_type": "code",
   "execution_count": 7,
   "metadata": {},
   "outputs": [
    {
     "name": "stdout",
     "output_type": "stream",
     "text": [
      "Index of value 49 in array is: 10\n"
     ]
    }
   ],
   "source": [
    "print(\"Index of value 49 in array is:\", LinearSearch(array, 32))"
   ]
  },
  {
   "cell_type": "markdown",
   "metadata": {},
   "source": [
    "## Binary Search"
   ]
  },
  {
   "cell_type": "markdown",
   "metadata": {},
   "source": [
    "- Makes use of the divide and eliminate rule\n",
    "- Halfs the array at every iteration\n",
    "- More efficient than linear search for large values of n\n",
    "- Big O is log(n)"
   ]
  },
  {
   "cell_type": "code",
   "execution_count": 8,
   "metadata": {},
   "outputs": [],
   "source": [
    "def BinarySearch(array, val):\n",
    "    min = 0;\n",
    "    max = len(array) - 1;\n",
    "    guess = 0;\n",
    "    while True:\n",
    "        guess = int((min+max)/2) #rounds down the value to integer.\n",
    "        if max < min:\n",
    "            return -1 #This occurs if value not in array\n",
    "        elif array[guess] < val:\n",
    "            min = guess + 1\n",
    "        elif array[guess] > val:\n",
    "            max = guess -1\n",
    "        elif array[guess] == val:\n",
    "            return guess"
   ]
  },
  {
   "cell_type": "code",
   "execution_count": 9,
   "metadata": {},
   "outputs": [
    {
     "name": "stdout",
     "output_type": "stream",
     "text": [
      "Index of value 13 in array is: 6\n"
     ]
    }
   ],
   "source": [
    "print(\"Index of value 13 in array is:\", BinarySearch(array, 13))"
   ]
  },
  {
   "cell_type": "code",
   "execution_count": 10,
   "metadata": {},
   "outputs": [
    {
     "name": "stdout",
     "output_type": "stream",
     "text": [
      "Index of value 13 in array is: -1\n"
     ]
    }
   ],
   "source": [
    "assert BinarySearch(array, 49) == -1\n",
    "\n",
    "print(\"Index of value 13 in array is:\", BinarySearch(array, 49))"
   ]
  },
  {
   "cell_type": "markdown",
   "metadata": {},
   "source": [
    "## Assymptotic Notations"
   ]
  },
  {
   "cell_type": "markdown",
   "metadata": {},
   "source": [
    "Common assymptotic functions arranged in increasing order\n",
    "- k\n",
    "- log_a(n)\n",
    "- n\n",
    "- nlog_a(n)\n",
    "- n^k\n",
    "- k^n\n",
    "- n!  \n",
    "where k is a constant and n is the size"
   ]
  },
  {
   "cell_type": "markdown",
   "metadata": {},
   "source": [
    "## Sorting"
   ]
  },
  {
   "cell_type": "markdown",
   "metadata": {},
   "source": [
    "### Selection Sort"
   ]
  },
  {
   "cell_type": "markdown",
   "metadata": {},
   "source": [
    "#### Challenge to implement swap."
   ]
  },
  {
   "cell_type": "code",
   "execution_count": 11,
   "metadata": {},
   "outputs": [
    {
     "name": "stdout",
     "output_type": "stream",
     "text": [
      "[9, 7, 4]\n"
     ]
    }
   ],
   "source": [
    "def swap(array, firstIndex, secondIndex):\n",
    "    # This challenge was ade to swap two different index in an array without overwriting the other.\n",
    "    temp = array[firstIndex]\n",
    "    array[firstIndex] = array[secondIndex]\n",
    "    array[secondIndex] = temp\n",
    "\n",
    "\n",
    "testArray = [7, 9, 4]\n",
    "swap(testArray, 0, 1)\n",
    "\n",
    "print(testArray)\n",
    "assert testArray == [9, 7, 4]"
   ]
  },
  {
   "cell_type": "code",
   "execution_count": 12,
   "metadata": {},
   "outputs": [
    {
     "name": "stdout",
     "output_type": "stream",
     "text": [
      "[9, 4, 7]\n"
     ]
    }
   ],
   "source": [
    "swap(testArray, 1, 2);\n",
    "print(testArray);\n",
    "assert testArray == [9, 4, 7]"
   ]
  },
  {
   "cell_type": "markdown",
   "metadata": {},
   "source": [
    "#### Find index of minimum value in a subarray"
   ]
  },
  {
   "cell_type": "code",
   "execution_count": 13,
   "metadata": {},
   "outputs": [],
   "source": [
    "def indexOfMinimum(array, startIndex):\n",
    "    # Set initial values for minValue and minIndex,\n",
    "    # based on the leftmost entry in the subarray:  \n",
    "    minValue = array[startIndex];\n",
    "    minIndex = startIndex;\n",
    "\n",
    "    # Loop over items starting with startIndex, \n",
    "    for i in range(startIndex+1, len(array)):\n",
    "        if minValue > array[i]:\n",
    "            # update minValue and minIndex as needed:\n",
    "            minValue = array[i]\n",
    "            minIndex = i\n",
    "        else:\n",
    "            continue\n",
    "    \n",
    "    return minIndex"
   ]
  },
  {
   "cell_type": "code",
   "execution_count": 14,
   "metadata": {},
   "outputs": [
    {
     "name": "stdout",
     "output_type": "stream",
     "text": [
      "The index of the minimum value of the subarray starting at index 2 is 3 .\n"
     ]
    }
   ],
   "source": [
    "array = [18, 6, 66, 9, 9, 22, 14];   \n",
    "index = indexOfMinimum(array, 2);\n",
    "\n",
    "#For the test array [18, 6, 66, 44, 9, 22, 14], \n",
    "#the value 9 is the smallest of [..66, 44, 9, 22, 14]\n",
    "#Since 9 is at index 4 in the original array, \n",
    "#\"index\" has value 4\n",
    "print(f\"The index of the minimum value of the subarray starting at index 2 is {index} .\")\n",
    "assert index == 3"
   ]
  },
  {
   "cell_type": "markdown",
   "metadata": {},
   "source": [
    "#### Implement Selection Sort"
   ]
  },
  {
   "cell_type": "code",
   "execution_count": 15,
   "metadata": {},
   "outputs": [],
   "source": [
    "def selectionSort(array):\n",
    "    # This will make use of the indexOfMinimum and swap functions\n",
    "    for j in range(len(array)):\n",
    "        min_index = indexOfMinimum(array, j)\n",
    "        swap(array, j, min_index)"
   ]
  },
  {
   "cell_type": "code",
   "execution_count": 16,
   "metadata": {},
   "outputs": [
    {
     "name": "stdout",
     "output_type": "stream",
     "text": [
      "Array after sorting:  [7, 9, 11, 22, 42, 88, 99]\n"
     ]
    }
   ],
   "source": [
    "array = [22, 11, 99, 88, 9, 7, 42];\n",
    "selectionSort(array);\n",
    "\n",
    "print(f\"Array after sorting:  {array}\");\n",
    "assert array == [7, 9, 11, 22, 42, 88, 99]"
   ]
  },
  {
   "cell_type": "markdown",
   "metadata": {},
   "source": [
    "#### Wrapping it all together in a class"
   ]
  },
  {
   "cell_type": "code",
   "execution_count": 17,
   "metadata": {},
   "outputs": [],
   "source": [
    "class SelectionSort(object):\n",
    "    def __init__(self, array):\n",
    "        self.array = array\n",
    "        for j in range(len(array)):\n",
    "            min_index = self.indexOfMinimum(self.array, j)\n",
    "            self.swap(array, j, min_index)\n",
    "\n",
    "    def swap(self, array, firstIndex, secondIndex):\n",
    "        # This challenge was ade to swap two different index in an array without overwriting the other.\n",
    "        temp = array[firstIndex]\n",
    "        array[firstIndex] = array[secondIndex]\n",
    "        array[secondIndex] = temp\n",
    "\n",
    "    def indexOfMinimum(self, array, startIndex):\n",
    "        # Set initial values for minValue and minIndex,\n",
    "        # based on the leftmost entry in the subarray:\n",
    "        minValue = array[startIndex]\n",
    "        minIndex = startIndex\n",
    "\n",
    "        # Loop over items starting with startIndex,\n",
    "        for i in range(startIndex+1, len(array)):\n",
    "            if minValue > array[i]:\n",
    "                # update minValue and minIndex as needed:\n",
    "                minValue = array[i]\n",
    "                minIndex = i\n",
    "            else:\n",
    "                continue\n",
    "        return minIndex\n",
    "\n",
    "    def __repr__(self):\n",
    "        return repr(self.array)"
   ]
  },
  {
   "cell_type": "code",
   "execution_count": 18,
   "metadata": {
    "scrolled": true
   },
   "outputs": [
    {
     "name": "stdout",
     "output_type": "stream",
     "text": [
      "[7, 9, 11, 22, 42, 88, 99]\n"
     ]
    }
   ],
   "source": [
    "array = [22, 11, 99, 88, 9, 7, 42];\n",
    "\n",
    "print(SelectionSort(array))\n",
    "assert array == [7, 9, 11, 22, 42, 88, 99]"
   ]
  },
  {
   "cell_type": "markdown",
   "metadata": {},
   "source": [
    "### Insertion Sort"
   ]
  },
  {
   "cell_type": "markdown",
   "metadata": {},
   "source": [
    "#### Insert value before an index"
   ]
  },
  {
   "cell_type": "code",
   "execution_count": 19,
   "metadata": {},
   "outputs": [],
   "source": [
    "def insert(array, rightIndex, value):\n",
    "    for i in range(rightIndex, -1, -1):\n",
    "        if array[i] > value:\n",
    "            array[i+1] = array[i]\n",
    "            if i == 0:\n",
    "                array[i] = value\n",
    "        else:\n",
    "            array[i+1] = value\n",
    "            break"
   ]
  },
  {
   "cell_type": "code",
   "execution_count": 20,
   "metadata": {},
   "outputs": [
    {
     "name": "stdout",
     "output_type": "stream",
     "text": [
      "Array after inserting 2:   [2, 3, 5, 7, 11, 13, 9, 6]\n"
     ]
    }
   ],
   "source": [
    "array = [3, 5, 7, 11, 13, 2, 9, 6];\n",
    "\n",
    "insert(array, 4, 2);\n",
    "print(\"Array after inserting 2:  \", array);\n",
    "\n",
    "assert array == [2, 3, 5, 7, 11, 13, 9, 6]"
   ]
  },
  {
   "cell_type": "code",
   "execution_count": 21,
   "metadata": {},
   "outputs": [
    {
     "name": "stdout",
     "output_type": "stream",
     "text": [
      "Array after inserting 9:   [2, 3, 5, 7, 9, 11, 13, 6]\n"
     ]
    }
   ],
   "source": [
    "insert(array, 5, 9);\n",
    "print(\"Array after inserting 9:  \", array);\n",
    "\n",
    "assert array == [2, 3, 5, 7, 9, 11, 13, 6];\n",
    "\n"
   ]
  },
  {
   "cell_type": "code",
   "execution_count": 22,
   "metadata": {},
   "outputs": [
    {
     "name": "stdout",
     "output_type": "stream",
     "text": [
      "Array after inserting 6:   [2, 3, 5, 6, 7, 9, 11, 13]\n"
     ]
    }
   ],
   "source": [
    "insert(array, 6, 6);\n",
    "print(\"Array after inserting 6:  \", array);\n",
    "\n",
    "assert array == [2, 3, 5, 6, 7, 9, 11, 13]"
   ]
  },
  {
   "cell_type": "markdown",
   "metadata": {},
   "source": [
    "#### Implement Insertion Sort"
   ]
  },
  {
   "cell_type": "code",
   "execution_count": 23,
   "metadata": {},
   "outputs": [],
   "source": [
    "def insertionSort(array):\n",
    "    for pos in range(len(array)-1):\n",
    "        insert(array, pos, array[pos+1])\n",
    "    return array"
   ]
  },
  {
   "cell_type": "code",
   "execution_count": 24,
   "metadata": {},
   "outputs": [
    {
     "name": "stdout",
     "output_type": "stream",
     "text": [
      "Array after sorting:   [7, 9, 11, 22, 42, 88, 99]\n"
     ]
    }
   ],
   "source": [
    "array = [22, 11, 99, 88, 9, 7, 42];\n",
    "\n",
    "insertionSort(array);\n",
    "print(\"Array after sorting:  \", array);\n",
    "\n",
    "assert array == [7, 9, 11, 22, 42, 88, 99]"
   ]
  },
  {
   "cell_type": "markdown",
   "metadata": {},
   "source": [
    "#### Insertion Sort Class"
   ]
  },
  {
   "cell_type": "code",
   "execution_count": 25,
   "metadata": {},
   "outputs": [],
   "source": [
    "class InsertionSort(object):\n",
    "    def __init__(self, array):\n",
    "        self.array = array\n",
    "        for pos in range(len(array)-1):\n",
    "            self.insert(array, pos, array[pos+1])\n",
    "\n",
    "    def insert(self, array, rightIndex, value):\n",
    "        for i in range(rightIndex, -1, -1):\n",
    "            if array[i] > value:\n",
    "                array[i+1] = array[i]\n",
    "                if i == 0:\n",
    "                    array[i] = value\n",
    "            else:\n",
    "                array[i+1] = value\n",
    "                break\n",
    "\n",
    "    def __repr__(self):\n",
    "        return repr(self.array)"
   ]
  },
  {
   "cell_type": "code",
   "execution_count": 26,
   "metadata": {},
   "outputs": [
    {
     "name": "stdout",
     "output_type": "stream",
     "text": [
      "Array after sorting:   [7, 9, 11, 22, 42, 88, 99]\n"
     ]
    }
   ],
   "source": [
    "array = [22, 11, 99, 88, 9, 7, 42];\n",
    "\n",
    "InsertionSort(array);\n",
    "print(\"Array after sorting:  \", array);\n",
    "\n",
    "assert array == [7, 9, 11, 22, 42, 88, 99]"
   ]
  },
  {
   "cell_type": "markdown",
   "metadata": {},
   "source": [
    "## Recursive Algorithms"
   ]
  },
  {
   "cell_type": "markdown",
   "metadata": {},
   "source": [
    "### Iterative Factorial"
   ]
  },
  {
   "cell_type": "code",
   "execution_count": 27,
   "metadata": {},
   "outputs": [],
   "source": [
    "def factorial(n):\n",
    "    # n should be an integer\n",
    "    result = 1;\n",
    "    for i in range(1,n+1):\n",
    "        if n == 0:\n",
    "            return 1\n",
    "        else:\n",
    "            result *=i\n",
    "    return result"
   ]
  },
  {
   "cell_type": "code",
   "execution_count": 28,
   "metadata": {},
   "outputs": [
    {
     "name": "stdout",
     "output_type": "stream",
     "text": [
      "The value of 5! should be  120\n",
      "The value of 5! is  120\n",
      "The value of 0! should be 1\n",
      "The value of 0! is  1\n"
     ]
    }
   ],
   "source": [
    "print(\"The value of 5! should be \", 5*4*3*2*1);\n",
    "print(\"The value of 5! is \", factorial(5));\n",
    "print(\"The value of 0! should be 1\");\n",
    "print(\"The value of 0! is \", factorial(0));"
   ]
  },
  {
   "cell_type": "code",
   "execution_count": 29,
   "metadata": {},
   "outputs": [],
   "source": [
    "assert factorial(5) == 120;\n",
    "assert factorial(0) == 1;"
   ]
  },
  {
   "cell_type": "markdown",
   "metadata": {},
   "source": [
    "### Recursive Factorial"
   ]
  },
  {
   "cell_type": "code",
   "execution_count": 30,
   "metadata": {},
   "outputs": [],
   "source": [
    "def factorial(n):\n",
    "    #base case\n",
    "    if n == 0:\n",
    "        return 1\n",
    "    else:\n",
    "        #recursive case:\n",
    "        result = n*factorial(n-1)\n",
    "    return result"
   ]
  },
  {
   "cell_type": "code",
   "execution_count": 31,
   "metadata": {},
   "outputs": [
    {
     "name": "stdout",
     "output_type": "stream",
     "text": [
      "The value of 0! is 1 .\n",
      "The value of 5! is 120 .\n"
     ]
    }
   ],
   "source": [
    "print(f\"The value of 0! is {factorial(0)} .\");\n",
    "print(f\"The value of 5! is {factorial(5)} .\");"
   ]
  },
  {
   "cell_type": "code",
   "execution_count": 32,
   "metadata": {},
   "outputs": [],
   "source": [
    "assert factorial(0) == 1;\n",
    "assert factorial(5) == 120;"
   ]
  },
  {
   "cell_type": "markdown",
   "metadata": {},
   "source": [
    "#### Using Recursion to detect Palindromes"
   ]
  },
  {
   "cell_type": "markdown",
   "metadata": {},
   "source": [
    "A palindrome is a word, number, phrase, or other sequence of characters which reads the same backward as forward, such as madam or racecar or the number 10801. Source: <a src=\"https://en.wikipedia.org/wiki/Palindrome\">Wikipedia</a>"
   ]
  },
  {
   "cell_type": "code",
   "execution_count": 36,
   "metadata": {},
   "outputs": [],
   "source": [
    "def firstCharacter(string):\n",
    "    \"\"\"Returns the first character of the string str\"\"\"\n",
    "    return string[0]\n",
    "\n",
    "\n",
    "def lastCharacter(string):\n",
    "    \"\"\"Returns the last character of a string str\"\"\"\n",
    "    return string[-1]\n",
    "\n",
    "\n",
    "def middleCharacters(string):\n",
    "    \"\"\" Returns the string that results from removing the first \n",
    "    and last characters from str \"\"\"\n",
    "    return string[1:-1]\n",
    "\n",
    "\n",
    "def isPalindrome(string):\n",
    "    if len(string) == 0 or len(string) == 1:  # base case #1\n",
    "        return True\n",
    "    elif firstCharacter(string) == lastCharacter(string):  # base case #2\n",
    "        return isPalindrome(middleCharacters(string))  # recursive case\n",
    "    else:\n",
    "        return False"
   ]
  },
  {
   "cell_type": "code",
   "execution_count": 37,
   "metadata": {},
   "outputs": [],
   "source": [
    "def checkPalindrome(string):\n",
    "    print(\"Is this word a palindrome? \" + string)\n",
    "    print(isPalindrome(string))"
   ]
  },
  {
   "cell_type": "code",
   "execution_count": 38,
   "metadata": {},
   "outputs": [
    {
     "name": "stdout",
     "output_type": "stream",
     "text": [
      "Is this word a palindrome? a\n",
      "True\n",
      "Is this word a palindrome? motor\n",
      "False\n",
      "Is this word a palindrome? rotor\n",
      "True\n"
     ]
    }
   ],
   "source": [
    "checkPalindrome(\"a\")\n",
    "assert isPalindrome(\"a\") == True\n",
    "checkPalindrome(\"motor\")\n",
    "assert isPalindrome(\"motor\") == False\n",
    "checkPalindrome(\"rotor\")\n",
    "assert isPalindrome(\"rotor\") == True"
   ]
  },
  {
   "cell_type": "markdown",
   "metadata": {},
   "source": [
    "#### Recursive function power(x, n) that returns the value of x^n. (assume that n is an integer)"
   ]
  }
 ],
 "metadata": {
  "hide_input": false,
  "kernelspec": {
   "display_name": "Python 3",
   "language": "python",
   "name": "python3"
  },
  "language_info": {
   "codemirror_mode": {
    "name": "ipython",
    "version": 3
   },
   "file_extension": ".py",
   "mimetype": "text/x-python",
   "name": "python",
   "nbconvert_exporter": "python",
   "pygments_lexer": "ipython3",
   "version": "3.6.8"
  },
  "toc": {
   "base_numbering": 1,
   "nav_menu": {},
   "number_sections": true,
   "sideBar": true,
   "skip_h1_title": false,
   "title_cell": "Table of Contents",
   "title_sidebar": "Contents",
   "toc_cell": false,
   "toc_position": {},
   "toc_section_display": true,
   "toc_window_display": true
  }
 },
 "nbformat": 4,
 "nbformat_minor": 2
}
