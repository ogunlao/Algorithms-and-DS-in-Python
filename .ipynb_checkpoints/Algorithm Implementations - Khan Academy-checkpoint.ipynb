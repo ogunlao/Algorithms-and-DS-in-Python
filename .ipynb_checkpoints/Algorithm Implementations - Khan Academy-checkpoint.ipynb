{
 "cells": [
  {
   "cell_type": "markdown",
   "metadata": {
    "toc": true
   },
   "source": [
    "<h1>Table of Contents<span class=\"tocSkip\"></span></h1>\n",
    "<div class=\"toc\"><ul class=\"toc-item\"><li><span><a href=\"#Linear-Search\" data-toc-modified-id=\"Linear-Search-1\"><span class=\"toc-item-num\">1&nbsp;&nbsp;</span>Linear Search</a></span></li><li><span><a href=\"#Binary-Search\" data-toc-modified-id=\"Binary-Search-2\"><span class=\"toc-item-num\">2&nbsp;&nbsp;</span>Binary Search</a></span></li><li><span><a href=\"#Assymptotic-Notations\" data-toc-modified-id=\"Assymptotic-Notations-3\"><span class=\"toc-item-num\">3&nbsp;&nbsp;</span>Assymptotic Notations</a></span></li><li><span><a href=\"#Sorting\" data-toc-modified-id=\"Sorting-4\"><span class=\"toc-item-num\">4&nbsp;&nbsp;</span>Sorting</a></span><ul class=\"toc-item\"><li><span><a href=\"#Selection-Sort\" data-toc-modified-id=\"Selection-Sort-4.1\"><span class=\"toc-item-num\">4.1&nbsp;&nbsp;</span>Selection Sort</a></span><ul class=\"toc-item\"><li><span><a href=\"#Challenge-to-implement-swap.\" data-toc-modified-id=\"Challenge-to-implement-swap.-4.1.1\"><span class=\"toc-item-num\">4.1.1&nbsp;&nbsp;</span>Challenge to implement swap.</a></span></li><li><span><a href=\"#Find-index-of-minimum-value-in-a-subarray\" data-toc-modified-id=\"Find-index-of-minimum-value-in-a-subarray-4.1.2\"><span class=\"toc-item-num\">4.1.2&nbsp;&nbsp;</span>Find index of minimum value in a subarray</a></span></li><li><span><a href=\"#Implement-Selection-Sort\" data-toc-modified-id=\"Implement-Selection-Sort-4.1.3\"><span class=\"toc-item-num\">4.1.3&nbsp;&nbsp;</span>Implement Selection Sort</a></span></li><li><span><a href=\"#Wrapping-it-all-together-in-a-class\" data-toc-modified-id=\"Wrapping-it-all-together-in-a-class-4.1.4\"><span class=\"toc-item-num\">4.1.4&nbsp;&nbsp;</span>Wrapping it all together in a class</a></span></li></ul></li><li><span><a href=\"#Insertion-Sort\" data-toc-modified-id=\"Insertion-Sort-4.2\"><span class=\"toc-item-num\">4.2&nbsp;&nbsp;</span>Insertion Sort</a></span><ul class=\"toc-item\"><li><span><a href=\"#Insert-value-before-an-index\" data-toc-modified-id=\"Insert-value-before-an-index-4.2.1\"><span class=\"toc-item-num\">4.2.1&nbsp;&nbsp;</span>Insert value before an index</a></span></li><li><span><a href=\"#Implement-Insertion-Sort\" data-toc-modified-id=\"Implement-Insertion-Sort-4.2.2\"><span class=\"toc-item-num\">4.2.2&nbsp;&nbsp;</span>Implement Insertion Sort</a></span></li><li><span><a href=\"#Insertion-Sort-Class\" data-toc-modified-id=\"Insertion-Sort-Class-4.2.3\"><span class=\"toc-item-num\">4.2.3&nbsp;&nbsp;</span>Insertion Sort Class</a></span></li></ul></li></ul></li><li><span><a href=\"#Recursive-Algorithms\" data-toc-modified-id=\"Recursive-Algorithms-5\"><span class=\"toc-item-num\">5&nbsp;&nbsp;</span>Recursive Algorithms</a></span><ul class=\"toc-item\"><li><span><a href=\"#Iterative-Factorial\" data-toc-modified-id=\"Iterative-Factorial-5.1\"><span class=\"toc-item-num\">5.1&nbsp;&nbsp;</span>Iterative Factorial</a></span></li><li><span><a href=\"#Recursive-Factorial\" data-toc-modified-id=\"Recursive-Factorial-5.2\"><span class=\"toc-item-num\">5.2&nbsp;&nbsp;</span>Recursive Factorial</a></span></li><li><span><a href=\"#Using-Recursion-to-detect-Palindromes\" data-toc-modified-id=\"Using-Recursion-to-detect-Palindromes-5.3\"><span class=\"toc-item-num\">5.3&nbsp;&nbsp;</span>Using Recursion to detect Palindromes</a></span></li><li><span><a href=\"#Recursive-function-power(x,-n)-that-returns-the-value-of-x^n.-(assume-that-n-is-an-integer)\" data-toc-modified-id=\"Recursive-function-power(x,-n)-that-returns-the-value-of-x^n.-(assume-that-n-is-an-integer)-5.4\"><span class=\"toc-item-num\">5.4&nbsp;&nbsp;</span>Recursive function power(x, n) that returns the value of x^n. (assume that n is an integer)</a></span></li><li><span><a href=\"#Sierpinski-Triangle\" data-toc-modified-id=\"Sierpinski-Triangle-5.5\"><span class=\"toc-item-num\">5.5&nbsp;&nbsp;</span>Sierpinski Triangle</a></span></li><li><span><a href=\"#The-Towers-of-Hanoi-Challenge\" data-toc-modified-id=\"The-Towers-of-Hanoi-Challenge-5.6\"><span class=\"toc-item-num\">5.6&nbsp;&nbsp;</span>The Towers of Hanoi Challenge</a></span></li></ul></li><li><span><a href=\"#Merge-Sort\" data-toc-modified-id=\"Merge-Sort-6\"><span class=\"toc-item-num\">6&nbsp;&nbsp;</span>Merge Sort</a></span><ul class=\"toc-item\"><li><span><a href=\"#Divide-and-conquer\" data-toc-modified-id=\"Divide-and-conquer-6.1\"><span class=\"toc-item-num\">6.1&nbsp;&nbsp;</span>Divide and conquer</a></span></li></ul></li></ul></div>"
   ]
  },
  {
   "cell_type": "markdown",
   "metadata": {},
   "source": [
    "This notebook contains Algorithm Challenges of the [Khan Academy Algorithm Course](https://www.khanacademy.org/computing/computer-science/algorithms/). The course uses Javascript for its codes but I decided to implement the algorithms in Python myself."
   ]
  },
  {
   "cell_type": "markdown",
   "metadata": {},
   "source": [
    "## Linear Search"
   ]
  },
  {
   "cell_type": "markdown",
   "metadata": {},
   "source": [
    "- Linear sort searches through the array from begining till it finds the value\n",
    "- It is assumed that array is already sorted\n",
    "- The big O is n\n",
    "- Outputs -1 if value is not found"
   ]
  },
  {
   "cell_type": "code",
   "execution_count": 5,
   "metadata": {},
   "outputs": [],
   "source": [
    "def LinearSearch(array, value):\n",
    "    for i in range(0, len(array)):\n",
    "        if array[i] == value:\n",
    "            return i\n",
    "    return -1     "
   ]
  },
  {
   "cell_type": "code",
   "execution_count": 6,
   "metadata": {},
   "outputs": [
    {
     "name": "stdout",
     "output_type": "stream",
     "text": [
      "Index of value 13 in array is: 6\n"
     ]
    }
   ],
   "source": [
    "array = [2, 3, 5, 7, 10, 11, 13, 15, 18, 24, 32]\n",
    "\n",
    "assert LinearSearch(array, 13) == 6\n",
    "print(\"Index of value 13 in array is:\", LinearSearch(array, 13))"
   ]
  },
  {
   "cell_type": "code",
   "execution_count": 7,
   "metadata": {},
   "outputs": [
    {
     "name": "stdout",
     "output_type": "stream",
     "text": [
      "Index of value 49 in array is: 10\n"
     ]
    }
   ],
   "source": [
    "print(\"Index of value 49 in array is:\", LinearSearch(array, 32))"
   ]
  },
  {
   "cell_type": "markdown",
   "metadata": {},
   "source": [
    "## Binary Search"
   ]
  },
  {
   "cell_type": "markdown",
   "metadata": {},
   "source": [
    "- Makes use of the divide and eliminate rule\n",
    "- Halfs the array at every iteration\n",
    "- More efficient than linear search for large values of n\n",
    "- Big O is log(n)"
   ]
  },
  {
   "cell_type": "code",
   "execution_count": 8,
   "metadata": {},
   "outputs": [],
   "source": [
    "def BinarySearch(array, val):\n",
    "    min = 0;\n",
    "    max = len(array) - 1;\n",
    "    guess = 0;\n",
    "    while True:\n",
    "        guess = int((min+max)/2) #rounds down the value to integer.\n",
    "        if max < min:\n",
    "            return -1 #This occurs if value not in array\n",
    "        elif array[guess] < val:\n",
    "            min = guess + 1\n",
    "        elif array[guess] > val:\n",
    "            max = guess -1\n",
    "        elif array[guess] == val:\n",
    "            return guess"
   ]
  },
  {
   "cell_type": "code",
   "execution_count": 9,
   "metadata": {},
   "outputs": [
    {
     "name": "stdout",
     "output_type": "stream",
     "text": [
      "Index of value 13 in array is: 6\n"
     ]
    }
   ],
   "source": [
    "print(\"Index of value 13 in array is:\", BinarySearch(array, 13))"
   ]
  },
  {
   "cell_type": "code",
   "execution_count": 10,
   "metadata": {},
   "outputs": [
    {
     "name": "stdout",
     "output_type": "stream",
     "text": [
      "Index of value 13 in array is: -1\n"
     ]
    }
   ],
   "source": [
    "assert BinarySearch(array, 49) == -1\n",
    "\n",
    "print(\"Index of value 13 in array is:\", BinarySearch(array, 49))"
   ]
  },
  {
   "cell_type": "markdown",
   "metadata": {},
   "source": [
    "## Assymptotic Notations"
   ]
  },
  {
   "cell_type": "markdown",
   "metadata": {},
   "source": [
    "Common assymptotic functions arranged in increasing order\n",
    "- k\n",
    "- log_a(n)\n",
    "- n\n",
    "- nlog_a(n)\n",
    "- n^k\n",
    "- k^n\n",
    "- n!  \n",
    "where k is a constant and n is the size"
   ]
  },
  {
   "cell_type": "markdown",
   "metadata": {},
   "source": [
    "## Sorting"
   ]
  },
  {
   "cell_type": "markdown",
   "metadata": {},
   "source": [
    "### Selection Sort"
   ]
  },
  {
   "cell_type": "markdown",
   "metadata": {},
   "source": [
    "#### Challenge to implement swap."
   ]
  },
  {
   "cell_type": "code",
   "execution_count": 11,
   "metadata": {},
   "outputs": [
    {
     "name": "stdout",
     "output_type": "stream",
     "text": [
      "[9, 7, 4]\n"
     ]
    }
   ],
   "source": [
    "def swap(array, firstIndex, secondIndex):\n",
    "    # This challenge was ade to swap two different index in an array without overwriting the other.\n",
    "    temp = array[firstIndex]\n",
    "    array[firstIndex] = array[secondIndex]\n",
    "    array[secondIndex] = temp\n",
    "\n",
    "\n",
    "testArray = [7, 9, 4]\n",
    "swap(testArray, 0, 1)\n",
    "\n",
    "print(testArray)\n",
    "assert testArray == [9, 7, 4]"
   ]
  },
  {
   "cell_type": "code",
   "execution_count": 12,
   "metadata": {},
   "outputs": [
    {
     "name": "stdout",
     "output_type": "stream",
     "text": [
      "[9, 4, 7]\n"
     ]
    }
   ],
   "source": [
    "swap(testArray, 1, 2);\n",
    "print(testArray);\n",
    "assert testArray == [9, 4, 7]"
   ]
  },
  {
   "cell_type": "markdown",
   "metadata": {},
   "source": [
    "#### Find index of minimum value in a subarray"
   ]
  },
  {
   "cell_type": "code",
   "execution_count": 13,
   "metadata": {},
   "outputs": [],
   "source": [
    "def indexOfMinimum(array, startIndex):\n",
    "    # Set initial values for minValue and minIndex,\n",
    "    # based on the leftmost entry in the subarray:  \n",
    "    minValue = array[startIndex];\n",
    "    minIndex = startIndex;\n",
    "\n",
    "    # Loop over items starting with startIndex, \n",
    "    for i in range(startIndex+1, len(array)):\n",
    "        if minValue > array[i]:\n",
    "            # update minValue and minIndex as needed:\n",
    "            minValue = array[i]\n",
    "            minIndex = i\n",
    "        else:\n",
    "            continue\n",
    "    \n",
    "    return minIndex"
   ]
  },
  {
   "cell_type": "code",
   "execution_count": 14,
   "metadata": {},
   "outputs": [
    {
     "name": "stdout",
     "output_type": "stream",
     "text": [
      "The index of the minimum value of the subarray starting at index 2 is 3 .\n"
     ]
    }
   ],
   "source": [
    "array = [18, 6, 66, 9, 9, 22, 14];   \n",
    "index = indexOfMinimum(array, 2);\n",
    "\n",
    "#For the test array [18, 6, 66, 44, 9, 22, 14], \n",
    "#the value 9 is the smallest of [..66, 44, 9, 22, 14]\n",
    "#Since 9 is at index 4 in the original array, \n",
    "#\"index\" has value 4\n",
    "print(f\"The index of the minimum value of the subarray starting at index 2 is {index} .\")\n",
    "assert index == 3"
   ]
  },
  {
   "cell_type": "markdown",
   "metadata": {},
   "source": [
    "#### Implement Selection Sort"
   ]
  },
  {
   "cell_type": "code",
   "execution_count": 15,
   "metadata": {},
   "outputs": [],
   "source": [
    "def selectionSort(array):\n",
    "    # This will make use of the indexOfMinimum and swap functions\n",
    "    for j in range(len(array)):\n",
    "        min_index = indexOfMinimum(array, j)\n",
    "        swap(array, j, min_index)"
   ]
  },
  {
   "cell_type": "code",
   "execution_count": 16,
   "metadata": {},
   "outputs": [
    {
     "name": "stdout",
     "output_type": "stream",
     "text": [
      "Array after sorting:  [7, 9, 11, 22, 42, 88, 99]\n"
     ]
    }
   ],
   "source": [
    "array = [22, 11, 99, 88, 9, 7, 42];\n",
    "selectionSort(array);\n",
    "\n",
    "print(f\"Array after sorting:  {array}\");\n",
    "assert array == [7, 9, 11, 22, 42, 88, 99]"
   ]
  },
  {
   "cell_type": "markdown",
   "metadata": {},
   "source": [
    "#### Wrapping it all together in a class"
   ]
  },
  {
   "cell_type": "code",
   "execution_count": 17,
   "metadata": {},
   "outputs": [],
   "source": [
    "class SelectionSort(object):\n",
    "    def __init__(self, array):\n",
    "        self.array = array\n",
    "        for j in range(len(array)):\n",
    "            min_index = self.indexOfMinimum(self.array, j)\n",
    "            self.swap(array, j, min_index)\n",
    "\n",
    "    def swap(self, array, firstIndex, secondIndex):\n",
    "        # This challenge was ade to swap two different index in an array without overwriting the other.\n",
    "        temp = array[firstIndex]\n",
    "        array[firstIndex] = array[secondIndex]\n",
    "        array[secondIndex] = temp\n",
    "\n",
    "    def indexOfMinimum(self, array, startIndex):\n",
    "        # Set initial values for minValue and minIndex,\n",
    "        # based on the leftmost entry in the subarray:\n",
    "        minValue = array[startIndex]\n",
    "        minIndex = startIndex\n",
    "\n",
    "        # Loop over items starting with startIndex,\n",
    "        for i in range(startIndex+1, len(array)):\n",
    "            if minValue > array[i]:\n",
    "                # update minValue and minIndex as needed:\n",
    "                minValue = array[i]\n",
    "                minIndex = i\n",
    "            else:\n",
    "                continue\n",
    "        return minIndex\n",
    "\n",
    "    def __repr__(self):\n",
    "        return repr(self.array)"
   ]
  },
  {
   "cell_type": "code",
   "execution_count": 18,
   "metadata": {
    "scrolled": true
   },
   "outputs": [
    {
     "name": "stdout",
     "output_type": "stream",
     "text": [
      "[7, 9, 11, 22, 42, 88, 99]\n"
     ]
    }
   ],
   "source": [
    "array = [22, 11, 99, 88, 9, 7, 42];\n",
    "\n",
    "print(SelectionSort(array))\n",
    "assert array == [7, 9, 11, 22, 42, 88, 99]"
   ]
  },
  {
   "cell_type": "markdown",
   "metadata": {},
   "source": [
    "### Insertion Sort"
   ]
  },
  {
   "cell_type": "markdown",
   "metadata": {},
   "source": [
    "#### Insert value before an index"
   ]
  },
  {
   "cell_type": "code",
   "execution_count": 19,
   "metadata": {},
   "outputs": [],
   "source": [
    "def insert(array, rightIndex, value):\n",
    "    for i in range(rightIndex, -1, -1):\n",
    "        if array[i] > value:\n",
    "            array[i+1] = array[i]\n",
    "            if i == 0:\n",
    "                array[i] = value\n",
    "        else:\n",
    "            array[i+1] = value\n",
    "            break"
   ]
  },
  {
   "cell_type": "code",
   "execution_count": 20,
   "metadata": {},
   "outputs": [
    {
     "name": "stdout",
     "output_type": "stream",
     "text": [
      "Array after inserting 2:   [2, 3, 5, 7, 11, 13, 9, 6]\n"
     ]
    }
   ],
   "source": [
    "array = [3, 5, 7, 11, 13, 2, 9, 6];\n",
    "\n",
    "insert(array, 4, 2);\n",
    "print(\"Array after inserting 2:  \", array);\n",
    "\n",
    "assert array == [2, 3, 5, 7, 11, 13, 9, 6]"
   ]
  },
  {
   "cell_type": "code",
   "execution_count": 21,
   "metadata": {},
   "outputs": [
    {
     "name": "stdout",
     "output_type": "stream",
     "text": [
      "Array after inserting 9:   [2, 3, 5, 7, 9, 11, 13, 6]\n"
     ]
    }
   ],
   "source": [
    "insert(array, 5, 9);\n",
    "print(\"Array after inserting 9:  \", array);\n",
    "\n",
    "assert array == [2, 3, 5, 7, 9, 11, 13, 6];\n",
    "\n"
   ]
  },
  {
   "cell_type": "code",
   "execution_count": 22,
   "metadata": {},
   "outputs": [
    {
     "name": "stdout",
     "output_type": "stream",
     "text": [
      "Array after inserting 6:   [2, 3, 5, 6, 7, 9, 11, 13]\n"
     ]
    }
   ],
   "source": [
    "insert(array, 6, 6);\n",
    "print(\"Array after inserting 6:  \", array);\n",
    "\n",
    "assert array == [2, 3, 5, 6, 7, 9, 11, 13]"
   ]
  },
  {
   "cell_type": "markdown",
   "metadata": {},
   "source": [
    "#### Implement Insertion Sort"
   ]
  },
  {
   "cell_type": "code",
   "execution_count": 23,
   "metadata": {},
   "outputs": [],
   "source": [
    "def insertionSort(array):\n",
    "    for pos in range(len(array)-1):\n",
    "        insert(array, pos, array[pos+1])\n",
    "    return array"
   ]
  },
  {
   "cell_type": "code",
   "execution_count": 24,
   "metadata": {},
   "outputs": [
    {
     "name": "stdout",
     "output_type": "stream",
     "text": [
      "Array after sorting:   [7, 9, 11, 22, 42, 88, 99]\n"
     ]
    }
   ],
   "source": [
    "array = [22, 11, 99, 88, 9, 7, 42];\n",
    "\n",
    "insertionSort(array);\n",
    "print(\"Array after sorting:  \", array);\n",
    "\n",
    "assert array == [7, 9, 11, 22, 42, 88, 99]"
   ]
  },
  {
   "cell_type": "markdown",
   "metadata": {},
   "source": [
    "#### Insertion Sort Class"
   ]
  },
  {
   "cell_type": "code",
   "execution_count": 25,
   "metadata": {},
   "outputs": [],
   "source": [
    "class InsertionSort(object):\n",
    "    def __init__(self, array):\n",
    "        self.array = array\n",
    "        for pos in range(len(array)-1):\n",
    "            self.insert(array, pos, array[pos+1])\n",
    "\n",
    "    def insert(self, array, rightIndex, value):\n",
    "        for i in range(rightIndex, -1, -1):\n",
    "            if array[i] > value:\n",
    "                array[i+1] = array[i]\n",
    "                if i == 0:\n",
    "                    array[i] = value\n",
    "            else:\n",
    "                array[i+1] = value\n",
    "                break\n",
    "\n",
    "    def __repr__(self):\n",
    "        return repr(self.array)"
   ]
  },
  {
   "cell_type": "code",
   "execution_count": 26,
   "metadata": {},
   "outputs": [
    {
     "name": "stdout",
     "output_type": "stream",
     "text": [
      "Array after sorting:   [7, 9, 11, 22, 42, 88, 99]\n"
     ]
    }
   ],
   "source": [
    "array = [22, 11, 99, 88, 9, 7, 42];\n",
    "\n",
    "InsertionSort(array);\n",
    "print(\"Array after sorting:  \", array);\n",
    "\n",
    "assert array == [7, 9, 11, 22, 42, 88, 99]"
   ]
  },
  {
   "cell_type": "markdown",
   "metadata": {},
   "source": [
    "## Recursive Algorithms"
   ]
  },
  {
   "cell_type": "markdown",
   "metadata": {},
   "source": [
    "### Iterative Factorial"
   ]
  },
  {
   "cell_type": "code",
   "execution_count": 27,
   "metadata": {},
   "outputs": [],
   "source": [
    "def factorial(n):\n",
    "    # n should be an integer\n",
    "    result = 1;\n",
    "    for i in range(1,n+1):\n",
    "        if n == 0:\n",
    "            return 1\n",
    "        else:\n",
    "            result *=i\n",
    "    return result"
   ]
  },
  {
   "cell_type": "code",
   "execution_count": 28,
   "metadata": {},
   "outputs": [
    {
     "name": "stdout",
     "output_type": "stream",
     "text": [
      "The value of 5! should be  120\n",
      "The value of 5! is  120\n",
      "The value of 0! should be 1\n",
      "The value of 0! is  1\n"
     ]
    }
   ],
   "source": [
    "print(\"The value of 5! should be \", 5*4*3*2*1);\n",
    "print(\"The value of 5! is \", factorial(5));\n",
    "print(\"The value of 0! should be 1\");\n",
    "print(\"The value of 0! is \", factorial(0));"
   ]
  },
  {
   "cell_type": "code",
   "execution_count": 29,
   "metadata": {},
   "outputs": [],
   "source": [
    "assert factorial(5) == 120;\n",
    "assert factorial(0) == 1;"
   ]
  },
  {
   "cell_type": "markdown",
   "metadata": {},
   "source": [
    "### Recursive Factorial"
   ]
  },
  {
   "cell_type": "code",
   "execution_count": 30,
   "metadata": {},
   "outputs": [],
   "source": [
    "def factorial(n):\n",
    "    #base case\n",
    "    if n == 0:\n",
    "        return 1\n",
    "    else:\n",
    "        #recursive case:\n",
    "        result = n*factorial(n-1)\n",
    "    return result"
   ]
  },
  {
   "cell_type": "code",
   "execution_count": 31,
   "metadata": {},
   "outputs": [
    {
     "name": "stdout",
     "output_type": "stream",
     "text": [
      "The value of 0! is 1 .\n",
      "The value of 5! is 120 .\n"
     ]
    }
   ],
   "source": [
    "print(f\"The value of 0! is {factorial(0)} .\");\n",
    "print(f\"The value of 5! is {factorial(5)} .\");"
   ]
  },
  {
   "cell_type": "code",
   "execution_count": 32,
   "metadata": {},
   "outputs": [],
   "source": [
    "assert factorial(0) == 1;\n",
    "assert factorial(5) == 120;"
   ]
  },
  {
   "cell_type": "markdown",
   "metadata": {},
   "source": [
    "### Using Recursion to detect Palindromes"
   ]
  },
  {
   "cell_type": "markdown",
   "metadata": {},
   "source": [
    "A palindrome is a word, number, phrase, or other sequence of characters which reads the same backward as forward, such as madam or racecar or the number 10801. Source: <a src=\"https://en.wikipedia.org/wiki/Palindrome\">Wikipedia</a>"
   ]
  },
  {
   "cell_type": "code",
   "execution_count": 36,
   "metadata": {},
   "outputs": [],
   "source": [
    "def firstCharacter(string):\n",
    "    \"\"\"Returns the first character of the string str\"\"\"\n",
    "    return string[0]\n",
    "\n",
    "\n",
    "def lastCharacter(string):\n",
    "    \"\"\"Returns the last character of a string str\"\"\"\n",
    "    return string[-1]\n",
    "\n",
    "\n",
    "def middleCharacters(string):\n",
    "    \"\"\" Returns the string that results from removing the first \n",
    "    and last characters from str \"\"\"\n",
    "    return string[1:-1]\n",
    "\n",
    "\n",
    "def isPalindrome(string):\n",
    "    if len(string) == 0 or len(string) == 1:  # base case #1\n",
    "        return True\n",
    "    elif firstCharacter(string) == lastCharacter(string):  # base case #2\n",
    "        return isPalindrome(middleCharacters(string))  # recursive case\n",
    "    else:\n",
    "        return False"
   ]
  },
  {
   "cell_type": "code",
   "execution_count": 37,
   "metadata": {},
   "outputs": [],
   "source": [
    "def checkPalindrome(string):\n",
    "    print(\"Is this word a palindrome? \" + string)\n",
    "    print(isPalindrome(string))"
   ]
  },
  {
   "cell_type": "code",
   "execution_count": 38,
   "metadata": {},
   "outputs": [
    {
     "name": "stdout",
     "output_type": "stream",
     "text": [
      "Is this word a palindrome? a\n",
      "True\n",
      "Is this word a palindrome? motor\n",
      "False\n",
      "Is this word a palindrome? rotor\n",
      "True\n"
     ]
    }
   ],
   "source": [
    "checkPalindrome(\"a\")\n",
    "assert isPalindrome(\"a\") == True\n",
    "checkPalindrome(\"motor\")\n",
    "assert isPalindrome(\"motor\") == False\n",
    "checkPalindrome(\"rotor\")\n",
    "assert isPalindrome(\"rotor\") == True"
   ]
  },
  {
   "cell_type": "markdown",
   "metadata": {},
   "source": [
    "### Recursive function power(x, n) that returns the value of x^n. (assume that n is an integer)"
   ]
  },
  {
   "cell_type": "code",
   "execution_count": 7,
   "metadata": {},
   "outputs": [],
   "source": [
    "def isEven(n):\n",
    "    return (n % 2 == 0)\n",
    "\n",
    "def isOdd(n):\n",
    "    return not isEven(n)\n",
    "\n",
    "def power(x, n):\n",
    "    #print(\"Computing\", x, \"raised to power\", n, \".\")\n",
    "    if n == 0:  # base case\n",
    "        return 1\n",
    "    elif n < 0: # recursive case: n is negative \n",
    "        return 1/power(x, -n)\n",
    "    elif isOdd(n): # recursive case: n is odd\n",
    "        return power(x, n-1) * x\n",
    "    elif isEven(n): # recursive case: n is even\n",
    "        return power(x, n/2) * power(x, n/2)\n"
   ]
  },
  {
   "cell_type": "code",
   "execution_count": 9,
   "metadata": {},
   "outputs": [
    {
     "name": "stdout",
     "output_type": "stream",
     "text": [
      "3  to the power of 0  is  1\n",
      "3  to the power of 1  is  3\n",
      "3  to the power of 2  is  9\n",
      "3  to the power of -1  is  0.3333333333333333\n"
     ]
    }
   ],
   "source": [
    "def displayPower(x, n):\n",
    "    print(x, \" to the power of\", n, \" is \", power(x, n))\n",
    "\n",
    "displayPower(3, 0)\n",
    "assert power(3, 0) == 1\n",
    "displayPower(3, 1)\n",
    "assert power(3, 1) == 3\n",
    "displayPower(3, 2)\n",
    "assert power(3, 2) == 9\n",
    "displayPower(3, -1)\n",
    "assert power(3, -1) == 1/3"
   ]
  },
  {
   "cell_type": "markdown",
   "metadata": {},
   "source": [
    "### Sierpinski Triangle"
   ]
  },
  {
   "cell_type": "markdown",
   "metadata": {},
   "source": [
    "Source of Matplotlib code: [Joao Ventura](http://joaoventura.net/blog/2016/sierpinski-triangle/)"
   ]
  },
  {
   "cell_type": "code",
   "execution_count": 14,
   "metadata": {},
   "outputs": [],
   "source": [
    "import random\n",
    "import matplotlib.pyplot as plt\n",
    "\n",
    "\n",
    "def plot(points):\n",
    "    \"\"\"\n",
    "    Plots the points using matplotlib.\n",
    "    Points is a list of (x, y) pairs.\n",
    "    \"\"\"\n",
    "\n",
    "    xx = [x for (x, y) in points]\n",
    "    yy = [y for (x, y) in points]\n",
    "\n",
    "    plt.plot(xx, yy, 'g.')\n",
    "    plt.axis(\"off\")\n",
    "    plt.show()\n",
    "\n",
    "\n",
    "def sierpinski(n):\n",
    "    \"\"\"\n",
    "    Generates positions for the Chaos Game Sierpinski\n",
    "    triangle with 'n iterations in a square of size 1x1.\n",
    "    \"\"\"\n",
    "\n",
    "    vertices = [(0.0, 0.0), (0.5, 1.0), (1.0, 0.0)]\n",
    "    points = []\n",
    "\n",
    "    # initial vertex\n",
    "    x, y = random.choice(vertices)\n",
    "\n",
    "    for i in range(n):\n",
    "        # select new vertex\n",
    "        vx, vy = random.choice(vertices)\n",
    "\n",
    "        # get middle point\n",
    "        x = (vx + x) / 2.0\n",
    "        y = (vy + y) / 2.0\n",
    "\n",
    "        points.append((x, y))\n",
    "\n",
    "    plot(points)"
   ]
  },
  {
   "cell_type": "code",
   "execution_count": 17,
   "metadata": {},
   "outputs": [
    {
     "data": {
      "image/png": "[encoded data removed]",
      "text/plain": [
       "<Figure size 432x288 with 1 Axes>"
      ]
     },
     "metadata": {},
     "output_type": "display_data"
    }
   ],
   "source": [
    "sierpinski(n=50000)"
   ]
  },
  {
   "cell_type": "code",
   "execution_count": 18,
   "metadata": {},
   "outputs": [
    {
     "data": {
      "image/png": "[encoded data removed]",
      "text/plain": [
       "<Figure size 432x288 with 1 Axes>"
      ]
     },
     "metadata": {},
     "output_type": "display_data"
    }
   ],
   "source": [
    "sierpinski(n=30000)"
   ]
  },
  {
   "cell_type": "markdown",
   "metadata": {},
   "source": [
    "### The Towers of Hanoi Challenge"
   ]
  },
  {
   "cell_type": "markdown",
   "metadata": {},
   "source": [
    "- Takes 2^n - 1 moves"
   ]
  },
  {
   "cell_type": "code",
   "execution_count": 31,
   "metadata": {},
   "outputs": [],
   "source": [
    "# Code adapted from https://en.wikipedia.org/wiki/Tower_of_Hanoi#Applications\n",
    "def move(n, source, target, auxiliary):\n",
    "    if n > 0:\n",
    "        # move n - 1 disks from source to auxiliary, so they are out of the way\n",
    "        move(n - 1, source, auxiliary, target)\n",
    "\n",
    "        # move the nth disk from source to target\n",
    "        target.append(source.pop())\n",
    "\n",
    "        # Display our progress\n",
    "        print(A, B, C, '------------', sep = '\\n')\n",
    "\n",
    "        # move the n - 1 disks that we left on auxiliary onto target\n",
    "        move(n - 1, auxiliary, target, source)"
   ]
  },
  {
   "cell_type": "code",
   "execution_count": 32,
   "metadata": {
    "scrolled": true
   },
   "outputs": [
    {
     "name": "stdout",
     "output_type": "stream",
     "text": [
      "[5, 4, 3, 2]\n",
      "[]\n",
      "[1]\n",
      "------------\n",
      "[5, 4, 3]\n",
      "[2]\n",
      "[1]\n",
      "------------\n",
      "[5, 4, 3]\n",
      "[2, 1]\n",
      "[]\n",
      "------------\n",
      "[5, 4]\n",
      "[2, 1]\n",
      "[3]\n",
      "------------\n",
      "[5, 4, 1]\n",
      "[2]\n",
      "[3]\n",
      "------------\n",
      "[5, 4, 1]\n",
      "[]\n",
      "[3, 2]\n",
      "------------\n",
      "[5, 4]\n",
      "[]\n",
      "[3, 2, 1]\n",
      "------------\n"
     ]
    }
   ],
   "source": [
    "A = [5, 4, 3, 2, 1] # peg with disks\n",
    "B = [] # Auxilliary peg\n",
    "C = [] # Target peg\n",
    "\n",
    "# initiate call from source A to target C with auxiliary B\n",
    "move(3, A, C, B)"
   ]
  },
  {
   "cell_type": "code",
   "execution_count": 33,
   "metadata": {},
   "outputs": [
    {
     "name": "stdout",
     "output_type": "stream",
     "text": [
      "[5, 4, 3, 2]\n",
      "[]\n",
      "[1]\n",
      "------------\n",
      "[5, 4, 3]\n",
      "[2]\n",
      "[1]\n",
      "------------\n",
      "[5, 4, 3]\n",
      "[2, 1]\n",
      "[]\n",
      "------------\n",
      "[5, 4]\n",
      "[2, 1]\n",
      "[3]\n",
      "------------\n",
      "[5, 4, 1]\n",
      "[2]\n",
      "[3]\n",
      "------------\n",
      "[5, 4, 1]\n",
      "[]\n",
      "[3, 2]\n",
      "------------\n",
      "[5, 4]\n",
      "[]\n",
      "[3, 2, 1]\n",
      "------------\n",
      "[5]\n",
      "[4]\n",
      "[3, 2, 1]\n",
      "------------\n",
      "[5]\n",
      "[4, 1]\n",
      "[3, 2]\n",
      "------------\n",
      "[5, 2]\n",
      "[4, 1]\n",
      "[3]\n",
      "------------\n",
      "[5, 2, 1]\n",
      "[4]\n",
      "[3]\n",
      "------------\n",
      "[5, 2, 1]\n",
      "[4, 3]\n",
      "[]\n",
      "------------\n",
      "[5, 2]\n",
      "[4, 3]\n",
      "[1]\n",
      "------------\n",
      "[5]\n",
      "[4, 3, 2]\n",
      "[1]\n",
      "------------\n",
      "[5]\n",
      "[4, 3, 2, 1]\n",
      "[]\n",
      "------------\n",
      "[]\n",
      "[4, 3, 2, 1]\n",
      "[5]\n",
      "------------\n",
      "[1]\n",
      "[4, 3, 2]\n",
      "[5]\n",
      "------------\n",
      "[1]\n",
      "[4, 3]\n",
      "[5, 2]\n",
      "------------\n",
      "[]\n",
      "[4, 3]\n",
      "[5, 2, 1]\n",
      "------------\n",
      "[3]\n",
      "[4]\n",
      "[5, 2, 1]\n",
      "------------\n",
      "[3]\n",
      "[4, 1]\n",
      "[5, 2]\n",
      "------------\n",
      "[3, 2]\n",
      "[4, 1]\n",
      "[5]\n",
      "------------\n",
      "[3, 2, 1]\n",
      "[4]\n",
      "[5]\n",
      "------------\n",
      "[3, 2, 1]\n",
      "[]\n",
      "[5, 4]\n",
      "------------\n",
      "[3, 2]\n",
      "[]\n",
      "[5, 4, 1]\n",
      "------------\n",
      "[3]\n",
      "[2]\n",
      "[5, 4, 1]\n",
      "------------\n",
      "[3]\n",
      "[2, 1]\n",
      "[5, 4]\n",
      "------------\n",
      "[]\n",
      "[2, 1]\n",
      "[5, 4, 3]\n",
      "------------\n",
      "[1]\n",
      "[2]\n",
      "[5, 4, 3]\n",
      "------------\n",
      "[1]\n",
      "[]\n",
      "[5, 4, 3, 2]\n",
      "------------\n",
      "[]\n",
      "[]\n",
      "[5, 4, 3, 2, 1]\n",
      "------------\n"
     ]
    }
   ],
   "source": [
    "A = [5, 4, 3, 2, 1] # peg with disks\n",
    "B = [] # Auxilliary peg\n",
    "C = [] # Target peg\n",
    "\n",
    "# initiate call from source A to target C with auxiliary B\n",
    "move(5, A, C, B)"
   ]
  },
  {
   "cell_type": "markdown",
   "metadata": {},
   "source": [
    "## Merge Sort"
   ]
  },
  {
   "cell_type": "markdown",
   "metadata": {},
   "source": [
    "### Divide and conquer"
   ]
  },
  {
   "cell_type": "code",
   "execution_count": null,
   "metadata": {},
   "outputs": [],
   "source": []
  }
 ],
 "metadata": {
  "hide_input": false,
  "kernelspec": {
   "display_name": "Python 3",
   "language": "python",
   "name": "python3"
  },
  "language_info": {
   "codemirror_mode": {
    "name": "ipython",
    "version": 3
   },
   "file_extension": ".py",
   "mimetype": "text/x-python",
   "name": "python",
   "nbconvert_exporter": "python",
   "pygments_lexer": "ipython3",
   "version": "3.6.8"
  },
  "toc": {
   "base_numbering": 1,
   "nav_menu": {},
   "number_sections": true,
   "sideBar": true,
   "skip_h1_title": false,
   "title_cell": "Table of Contents",
   "title_sidebar": "Contents",
   "toc_cell": true,
   "toc_position": {
    "height": "453.333px",
    "left": "208px",
    "top": "110px",
    "width": "247.448px"
   },
   "toc_section_display": true,
   "toc_window_display": true
  }
 },
 "nbformat": 4,
 "nbformat_minor": 2
}
